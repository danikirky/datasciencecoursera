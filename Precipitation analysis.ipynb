{
    "cells": [
        {
            "metadata": {},
            "cell_type": "code",
            "source": "\n// @hidden_cell\nimport com.ibm.ibmos2spark.CloudObjectStorage\nvar configurationName = \"os_c1b6d54d4a6e4837849678f84f77e7c4_configs\"\ndef getCredentials(): scala.collection.mutable.HashMap[String, String] = {\n    return scala.collection.mutable.HashMap[String, String] (\n    \"endPoint\"->\"https://s3-api.us-geo.objectstorage.service.networklayer.com\",\n    \"apiKey\"->\"DDr2kGhyMSpUEXodacdHvHFvXwNxrnT-BlGwlmY8mfJV\",\n    \"serviceId\"->\"iam-ServiceId-c5ae0f6b-38e5-4c24-8808-6961a68f2968\",\n    \"iamServiceEndpoint\" -> \"https://iam.cloud.ibm.com/oidc/token\")\n}\n\nvar cos = new CloudObjectStorage(sc, getCredentials(), configurationName, \"bluemix_cos\")\n\nimport org.apache.spark.sql.SparkSession\nval spark = SparkSession.\n    builder().\n    getOrCreate()\nval dfData1 = spark.\n    read.format(\"org.apache.spark.sql.execution.datasources.csv.CSVFileFormat\").\n    option(\"header\", \"true\").\n    option(\"inferSchema\", \"true\").\n    load(cos.url(\"jupyternotebooks-donotdelete-pr-4p2mkxauwlra0o\", \"Pathview_QMLTests2018_latest.csv\"))\ndfData1.show(5)\n",
            "execution_count": 1,
            "outputs": [
                {
                    "output_type": "stream",
                    "text": "+--------------------+-------------+--------------------+-----------------------+\n|                Code|    Test Name|            Synonyms|Collection Requirements|\n+--------------------+-------------+--------------------+-----------------------+\n|                 125|Ca 125, Serum|Ovarian Cancer Tu...|   Department : Endo...|\n|Specimen / Contai...|         null|                null|                   null|\n|   Frequency : Daily|         null|                null|                   null|\n|Reporting Time : ...|         null|                null|                   null|\n|Comments : Serous...|         null|                null|                   null|\n+--------------------+-------------+--------------------+-----------------------+\nonly showing top 5 rows\n\n",
                    "name": "stdout"
                },
                {
                    "output_type": "display_data",
                    "data": {
                        "text/plain": "configurationName = os_c1b6d54d4a6e4837849678f84f77e7c4_configs\ncos = com.ibm.ibmos2spark.CloudObjectStorage@afb28541\nspark = org.apache.spark.sql.SparkSession@e92cc38e\ndfData1 = [Code: string, Test Name: string ... 2 more fields]\n"
                    },
                    "metadata": {}
                },
                {
                    "output_type": "display_data",
                    "data": {
                        "text/plain": "getCredentials: ()scala.collection.mutable.HashMap[String,String]\n"
                    },
                    "metadata": {}
                },
                {
                    "output_type": "execute_result",
                    "execution_count": 1,
                    "data": {
                        "text/plain": "[Code: string, Test Name: string ... 2 more fields]"
                    },
                    "metadata": {}
                }
            ]
        }
    ],
    "metadata": {
        "kernelspec": {
            "name": "scala",
            "display_name": "Scala 2.11 with Spark",
            "language": "scala"
        },
        "language_info": {
            "mimetype": "text/x-scala",
            "name": "scala",
            "pygments_lexer": "scala",
            "version": "2.11.12",
            "file_extension": ".scala",
            "codemirror_mode": "text/x-scala"
        }
    },
    "nbformat": 4,
    "nbformat_minor": 1
}